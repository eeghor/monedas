{
 "cells": [
  {
   "cell_type": "code",
   "id": "initial_id",
   "metadata": {
    "collapsed": true,
    "ExecuteTime": {
     "end_time": "2024-12-09T13:52:09.179241Z",
     "start_time": "2024-12-09T13:52:08.720436Z"
    }
   },
   "source": [
    "import requests\n",
    "import hmac\n",
    "from datetime import datetime\n",
    "import time\n",
    "import hashlib\n",
    "import hmac\n",
    "import os\n",
    "import json\n",
    "import pandas as pd\n",
    "\n",
    "from dotenv import load_dotenv\n",
    "\n",
    "load_dotenv()"
   ],
   "outputs": [
    {
     "data": {
      "text/plain": [
       "True"
      ]
     },
     "execution_count": 24,
     "metadata": {},
     "output_type": "execute_result"
    }
   ],
   "execution_count": 24
  },
  {
   "metadata": {
    "ExecuteTime": {
     "end_time": "2024-12-09T13:50:29.215354Z",
     "start_time": "2024-12-09T13:50:28.888601Z"
    }
   },
   "cell_type": "code",
   "source": [
    "api_key = os.getenv(\"BYBIT_API_KEY\")\n",
    "secret_key = os.getenv(\"BYBIT_SECRET_KEY\")\n",
    "\n",
    "httpClient = requests.Session()\n",
    "recv_window = str(5000)\n",
    "url = \"https://api-testnet.bybit.com\"  # Testnet endpoint\n",
    "\n",
    "\n",
    "def HTTP_Request(endPoint, method, payload):\n",
    "    global time_stamp\n",
    "    time_stamp = str(int(time.time() * 10 ** 3))\n",
    "    signature = genSignature(payload)\n",
    "    headers = {\n",
    "        'X-BAPI-API-KEY': api_key,\n",
    "        'X-BAPI-SIGN': signature,\n",
    "        'X-BAPI-SIGN-TYPE': '2',\n",
    "        'X-BAPI-TIMESTAMP': time_stamp,\n",
    "        'X-BAPI-RECV-WINDOW': recv_window,\n",
    "        'Content-Type': 'application/json'\n",
    "    }\n",
    "    response = httpClient.request(method, url + endPoint + \"?\" + payload, headers=headers)\n",
    "    return response.text\n",
    "    # print(response.headers)\n",
    "\n",
    "\n",
    "def genSignature(payload):\n",
    "    param_str = str(time_stamp) + api_key + recv_window + payload\n",
    "    hash = hmac.new(bytes(secret_key, \"utf-8\"), param_str.encode(\"utf-8\"), hashlib.sha256)\n",
    "    signature = hash.hexdigest()\n",
    "    return signature\n",
    "\n",
    "\n",
    "start_date = int(datetime.strptime(\"2024-12-01\", \"%Y-%m-%d\").timestamp())\n",
    "payload = f\"category=linear&symbol=BTCUSD&interval=D&limit=90&start={start_date}\"\n",
    "\n",
    "response = HTTP_Request(\"/v5/market/kline\", \"GET\", payload)"
   ],
   "id": "dc156ba24c8c6ba6",
   "outputs": [],
   "execution_count": 19
  },
  {
   "metadata": {
    "ExecuteTime": {
     "end_time": "2024-12-09T13:56:58.400156Z",
     "start_time": "2024-12-09T13:56:58.387799Z"
    }
   },
   "cell_type": "code",
   "source": [
    "# > list[0]: startTime\tstring\tStart time of the candle (ms)\n",
    "# > list[1]: openPrice\tstring\tOpen price\n",
    "# > list[2]: highPrice\tstring\tHighest price\n",
    "# > list[3]: lowPrice\tstring\tLowest price\n",
    "# > list[4]: closePrice\tstring\tClose price. Is the last traded price when the candle is not closed\n",
    "# > list[5]: volume\tstring\tTrade volume. Unit of contract: pieces of contract. Unit of spot: quantity of coins\n",
    "# > list[6]: turnover\tstring\tTurnover. Unit of figure: quantity of quota coin\n",
    "df = pd.DataFrame(json.loads(response)[\"result\"][\"list\"]).set_axis([\"startTime\", \"openPrice\", \"highPrice\", \"lowPrice\", \"closePrice\", \"volume\", \"turnover\"], axis=1).sort_values(\"startTime\")\n",
    "# Convert startTime from unix format to format like \"2024-12-01 00:00:00\"\n",
    "df[\"startTime\"] = pd.to_datetime(df[\"startTime\"], unit=\"ms\")\n"
   ],
   "id": "14f1fe291bbfb7b2",
   "outputs": [
    {
     "name": "stderr",
     "output_type": "stream",
     "text": [
      "/var/folders/c5/yws7l37x505_stzsyd569pn80000gn/T/ipykernel_82898/1413342274.py:10: FutureWarning: The behavior of 'to_datetime' with 'unit' when parsing strings is deprecated. In a future version, strings will be parsed as datetime strings, matching the behavior without a 'unit'. To retain the old behavior, explicitly cast ints or floats to numeric type before calling to_datetime.\n",
      "  df[\"startTime\"] = pd.to_datetime(df[\"startTime\"], unit=\"ms\")\n"
     ]
    }
   ],
   "execution_count": 31
  },
  {
   "metadata": {
    "ExecuteTime": {
     "end_time": "2024-12-09T13:56:59.637273Z",
     "start_time": "2024-12-09T13:56:59.630661Z"
    }
   },
   "cell_type": "code",
   "source": "df",
   "id": "23db4727b73347b1",
   "outputs": [
    {
     "data": {
      "text/plain": [
       "    startTime openPrice highPrice lowPrice closePrice     volume  \\\n",
       "89 2018-12-29      3880      3880     3880       3880        111   \n",
       "88 2018-12-30      3880      3880     3880       3880          0   \n",
       "87 2018-12-31      3880      3880     3880       3880          0   \n",
       "86 2019-01-01      3880      3880     3880       3880          0   \n",
       "85 2019-01-02      3880      3914   3760.5     3887.5    4235723   \n",
       "..        ...       ...       ...      ...        ...        ...   \n",
       "4  2019-03-24    3978.5    3978.5   3945.5       3964     999420   \n",
       "3  2019-03-25      3964      3972   3848.5     3902.5    1082211   \n",
       "2  2019-03-26    3902.5    3924.5   3880.5     3918.5  103343047   \n",
       "1  2019-03-27    3918.5      4040   3911.5     4025.5  105794956   \n",
       "0  2019-03-28    4025.5      4027   3992.5     4013.5   29467278   \n",
       "\n",
       "            turnover  \n",
       "89        0.02860824  \n",
       "88                 0  \n",
       "87                 0  \n",
       "86                 0  \n",
       "85     1106.62087526  \n",
       "..               ...  \n",
       "4       252.06844119  \n",
       "3       274.07472471  \n",
       "2   26440.9739616908  \n",
       "1   26568.6550349592  \n",
       "0       7347.0202796  \n",
       "\n",
       "[90 rows x 7 columns]"
      ],
      "text/html": [
       "<div>\n",
       "<style scoped>\n",
       "    .dataframe tbody tr th:only-of-type {\n",
       "        vertical-align: middle;\n",
       "    }\n",
       "\n",
       "    .dataframe tbody tr th {\n",
       "        vertical-align: top;\n",
       "    }\n",
       "\n",
       "    .dataframe thead th {\n",
       "        text-align: right;\n",
       "    }\n",
       "</style>\n",
       "<table border=\"1\" class=\"dataframe\">\n",
       "  <thead>\n",
       "    <tr style=\"text-align: right;\">\n",
       "      <th></th>\n",
       "      <th>startTime</th>\n",
       "      <th>openPrice</th>\n",
       "      <th>highPrice</th>\n",
       "      <th>lowPrice</th>\n",
       "      <th>closePrice</th>\n",
       "      <th>volume</th>\n",
       "      <th>turnover</th>\n",
       "    </tr>\n",
       "  </thead>\n",
       "  <tbody>\n",
       "    <tr>\n",
       "      <th>89</th>\n",
       "      <td>2018-12-29</td>\n",
       "      <td>3880</td>\n",
       "      <td>3880</td>\n",
       "      <td>3880</td>\n",
       "      <td>3880</td>\n",
       "      <td>111</td>\n",
       "      <td>0.02860824</td>\n",
       "    </tr>\n",
       "    <tr>\n",
       "      <th>88</th>\n",
       "      <td>2018-12-30</td>\n",
       "      <td>3880</td>\n",
       "      <td>3880</td>\n",
       "      <td>3880</td>\n",
       "      <td>3880</td>\n",
       "      <td>0</td>\n",
       "      <td>0</td>\n",
       "    </tr>\n",
       "    <tr>\n",
       "      <th>87</th>\n",
       "      <td>2018-12-31</td>\n",
       "      <td>3880</td>\n",
       "      <td>3880</td>\n",
       "      <td>3880</td>\n",
       "      <td>3880</td>\n",
       "      <td>0</td>\n",
       "      <td>0</td>\n",
       "    </tr>\n",
       "    <tr>\n",
       "      <th>86</th>\n",
       "      <td>2019-01-01</td>\n",
       "      <td>3880</td>\n",
       "      <td>3880</td>\n",
       "      <td>3880</td>\n",
       "      <td>3880</td>\n",
       "      <td>0</td>\n",
       "      <td>0</td>\n",
       "    </tr>\n",
       "    <tr>\n",
       "      <th>85</th>\n",
       "      <td>2019-01-02</td>\n",
       "      <td>3880</td>\n",
       "      <td>3914</td>\n",
       "      <td>3760.5</td>\n",
       "      <td>3887.5</td>\n",
       "      <td>4235723</td>\n",
       "      <td>1106.62087526</td>\n",
       "    </tr>\n",
       "    <tr>\n",
       "      <th>...</th>\n",
       "      <td>...</td>\n",
       "      <td>...</td>\n",
       "      <td>...</td>\n",
       "      <td>...</td>\n",
       "      <td>...</td>\n",
       "      <td>...</td>\n",
       "      <td>...</td>\n",
       "    </tr>\n",
       "    <tr>\n",
       "      <th>4</th>\n",
       "      <td>2019-03-24</td>\n",
       "      <td>3978.5</td>\n",
       "      <td>3978.5</td>\n",
       "      <td>3945.5</td>\n",
       "      <td>3964</td>\n",
       "      <td>999420</td>\n",
       "      <td>252.06844119</td>\n",
       "    </tr>\n",
       "    <tr>\n",
       "      <th>3</th>\n",
       "      <td>2019-03-25</td>\n",
       "      <td>3964</td>\n",
       "      <td>3972</td>\n",
       "      <td>3848.5</td>\n",
       "      <td>3902.5</td>\n",
       "      <td>1082211</td>\n",
       "      <td>274.07472471</td>\n",
       "    </tr>\n",
       "    <tr>\n",
       "      <th>2</th>\n",
       "      <td>2019-03-26</td>\n",
       "      <td>3902.5</td>\n",
       "      <td>3924.5</td>\n",
       "      <td>3880.5</td>\n",
       "      <td>3918.5</td>\n",
       "      <td>103343047</td>\n",
       "      <td>26440.9739616908</td>\n",
       "    </tr>\n",
       "    <tr>\n",
       "      <th>1</th>\n",
       "      <td>2019-03-27</td>\n",
       "      <td>3918.5</td>\n",
       "      <td>4040</td>\n",
       "      <td>3911.5</td>\n",
       "      <td>4025.5</td>\n",
       "      <td>105794956</td>\n",
       "      <td>26568.6550349592</td>\n",
       "    </tr>\n",
       "    <tr>\n",
       "      <th>0</th>\n",
       "      <td>2019-03-28</td>\n",
       "      <td>4025.5</td>\n",
       "      <td>4027</td>\n",
       "      <td>3992.5</td>\n",
       "      <td>4013.5</td>\n",
       "      <td>29467278</td>\n",
       "      <td>7347.0202796</td>\n",
       "    </tr>\n",
       "  </tbody>\n",
       "</table>\n",
       "<p>90 rows × 7 columns</p>\n",
       "</div>"
      ]
     },
     "execution_count": 32,
     "metadata": {},
     "output_type": "execute_result"
    }
   ],
   "execution_count": 32
  },
  {
   "metadata": {},
   "cell_type": "code",
   "outputs": [],
   "execution_count": null,
   "source": "",
   "id": "2c1ae1cc27ceb0a2"
  }
 ],
 "metadata": {
  "kernelspec": {
   "display_name": "Python 3",
   "language": "python",
   "name": "python3"
  },
  "language_info": {
   "codemirror_mode": {
    "name": "ipython",
    "version": 2
   },
   "file_extension": ".py",
   "mimetype": "text/x-python",
   "name": "python",
   "nbconvert_exporter": "python",
   "pygments_lexer": "ipython2",
   "version": "2.7.6"
  }
 },
 "nbformat": 4,
 "nbformat_minor": 5
}
